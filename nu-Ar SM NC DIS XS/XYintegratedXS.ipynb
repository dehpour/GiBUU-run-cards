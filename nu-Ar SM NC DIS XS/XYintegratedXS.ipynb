{
 "cells": [
  {
   "cell_type": "code",
   "execution_count": 1,
   "id": "8ce741b5-1e2f-477c-98b1-bfa243d83cf6",
   "metadata": {},
   "outputs": [],
   "source": [
    "import numpy as np\n",
    "import matplotlib.pyplot as plt"
   ]
  },
  {
   "cell_type": "code",
   "execution_count": 2,
   "id": "9099c944-aa8d-4fc5-ac3b-097945c589d1",
   "metadata": {},
   "outputs": [],
   "source": [
    "# Run the following where you executed GiBUU job card"
   ]
  },
  {
   "cell_type": "code",
   "execution_count": 3,
   "id": "0594bfc6-2565-43ce-ba25-b5a830c3979d",
   "metadata": {},
   "outputs": [],
   "source": [
    "# For\n",
    "Enu = 5\n",
    "# We have\n",
    "file_path = \"neutrino.XYplaneXS.005.dat\"\n",
    "\n",
    "with open(file_path, 'r') as file:\n",
    "    data = []\n",
    "    for line in file:\n",
    "        # Step 2: Split the line into numbers\n",
    "        numbers = line.split()\n",
    "        \n",
    "        # Step 3: Convert the strings to floats and add to data list\n",
    "        if numbers:  # This checks if the line is not empty\n",
    "            data.append([float(num) for num in numbers])\n",
    "\n",
    "data_array = np.array(data)\n",
    "reshaped_data = data_array.reshape((210, 210, 5))\n",
    "\n",
    "#reshaped_data"
   ]
  },
  {
   "cell_type": "code",
   "execution_count": 4,
   "id": "af318ff8-309c-41b9-850f-4ff4989ed10e",
   "metadata": {},
   "outputs": [],
   "source": [
    "# Integrate dsigma over 0<=x<=1 and 0<=y<=1/(1+M_N x/(2 E_nu))\n",
    "\n",
    "M_N = 0.9385\n",
    "\n",
    "Yinterval = reshaped_data[0][1][1]-reshaped_data[0][0][1]\n",
    "Xinterval = reshaped_data[1][0][0]-reshaped_data[0][0][0]\n",
    "XYintegratedXS = 0\n",
    "for j in range (210):\n",
    "    if 0<= reshaped_data[j][0][0] <=1:\n",
    "        YintegratedXS = 0\n",
    "        for i in range (210):\n",
    "            if 0 <= reshaped_data[j][i][1] <= 1/(M_N*reshaped_data[j][i][0]/(2*Enu)):\n",
    "                YintegratedXS = YintegratedXS + reshaped_data[j][i][2]*Yinterval\n",
    "        XYintegratedXS = XYintegratedXS + YintegratedXS*Xinterval"
   ]
  },
  {
   "cell_type": "code",
   "execution_count": 5,
   "id": "4de61f2d-a970-4482-8115-b31623255a42",
   "metadata": {},
   "outputs": [
    {
     "name": "stdout",
     "output_type": "stream",
     "text": [
      "0.5595645872999998 × 10^-38 cm^2\n"
     ]
    }
   ],
   "source": [
    "print(XYintegratedXS,'× 10^-38 cm^2')"
   ]
  }
 ],
 "metadata": {
  "kernelspec": {
   "display_name": "Python 3 (ipykernel)",
   "language": "python",
   "name": "python3"
  },
  "language_info": {
   "codemirror_mode": {
    "name": "ipython",
    "version": 3
   },
   "file_extension": ".py",
   "mimetype": "text/x-python",
   "name": "python",
   "nbconvert_exporter": "python",
   "pygments_lexer": "ipython3",
   "version": "3.10.12"
  }
 },
 "nbformat": 4,
 "nbformat_minor": 5
}
